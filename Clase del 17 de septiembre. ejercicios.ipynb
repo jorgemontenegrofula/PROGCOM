{
  "nbformat": 4,
  "nbformat_minor": 0,
  "metadata": {
    "colab": {
      "provenance": []
    },
    "kernelspec": {
      "name": "python3",
      "display_name": "Python 3"
    },
    "language_info": {
      "name": "python"
    }
  },
  "cells": [
    {
      "cell_type": "code",
      "source": [
        "#1\n",
        "nombre = input(\"Digite su nombre: \")\n",
        "\n",
        "codigo = input(\"Digite su código: \")\n",
        "\n",
        "print(\"UNIVERSIDAD AUTÓNOMA DE BUCARAMANGA\")\n",
        "\n",
        "print(\"Nombre del estudiante:\", nombre)\n",
        "print(\"Código:\", codigo)\n",
        "\n",
        "# Usar un bucle for para imprimir una línea adicional como parte del logo\n",
        "for i in range(1):  # Solo se ejecuta una vez\n",
        "    print(\"=================================\")"
      ],
      "metadata": {
        "colab": {
          "base_uri": "https://localhost:8080/"
        },
        "id": "ikRpPfmvbmdV",
        "outputId": "e5c1f362-0ceb-40dc-9f38-c30e4a66fd33"
      },
      "execution_count": null,
      "outputs": [
        {
          "output_type": "stream",
          "name": "stdout",
          "text": [
            "Digite su nombre: Juan Felipe Hernandez Tello\n",
            "Digite su código: U00178782\n",
            "UNIVERSIDAD AUTÓNOMA DE BUCARAMANGA\n",
            "Nombre del estudiante: Juan Felipe Hernandez Tello\n",
            "Código: U00178782\n",
            "=================================\n"
          ]
        }
      ]
    },
    {
      "cell_type": "code",
      "source": [
        "#2\n",
        "import math\n",
        "\n",
        "radio = float(input(\"Introduce el radio de la base del cono:\"))\n",
        "altura = float(input(\"Introduce la altura del cono:\"))\n",
        "\n",
        "volumen = (1 / 3) * math.pi * radio**2 * altura\n",
        "\n",
        "print(\"El voluen del cono es:\", volumen)"
      ],
      "metadata": {
        "id": "e3TVpx5ocG0c",
        "colab": {
          "base_uri": "https://localhost:8080/"
        },
        "outputId": "252fcb68-33ae-4d49-9488-67bfe0865026"
      },
      "execution_count": 5,
      "outputs": [
        {
          "output_type": "stream",
          "name": "stdout",
          "text": [
            "Introduce el radio de la base del cono:12\n",
            "Introduce la altura del cono:25\n",
            "El voluen del cono es: 3769.9111843077517\n"
          ]
        }
      ]
    },
    {
      "cell_type": "code",
      "source": [
        "#3\n",
        "n = 0\n",
        "\n",
        "n = int(input(\"Digite el número de servidores: \"))\n",
        "\n",
        "if n < 2:\n",
        "    total_conexiones = 0\n",
        "else:\n",
        "    total_conexiones = (n * (n - 1)) // 2\n",
        "\n",
        "print(\"El número total de conexiones entre los servidores es:\", total_conexiones)"
      ],
      "metadata": {
        "colab": {
          "base_uri": "https://localhost:8080/"
        },
        "id": "NLrgRXLFelRq",
        "outputId": "c7cab8f3-e13f-48af-b75d-41f9d0a0a5bc"
      },
      "execution_count": 6,
      "outputs": [
        {
          "output_type": "stream",
          "name": "stdout",
          "text": [
            "Digite el número de servidores: 10\n",
            "El número total de conexiones entre los servidores es: 45\n"
          ]
        }
      ]
    },
    {
      "cell_type": "code",
      "source": [
        "#4\n",
        "temperatura_celsius = 0.0\n",
        "\n",
        "print(\"Conversión de temperatura\")\n",
        "temperatura_celsius = float(input(\"Digite la temperatura en grados Celsius (°C): \"))\n",
        "\n",
        "temperatura_fahrenheit = (9/5) * temperatura_celsius + 32\n",
        "\n",
        "temperatura_kelvin = temperatura_celsius + 273.15\n",
        "\n",
        "print(\"La temperatura en grados Fahrenheit (°F) es:\", temperatura_fahrenheit)\n",
        "print(\"La temperatura en grados Kelvin (°K) es:\", temperatura_kelvin)"
      ],
      "metadata": {
        "colab": {
          "base_uri": "https://localhost:8080/"
        },
        "id": "nuK6G5tIe-0w",
        "outputId": "373da70c-a49e-4e08-f331-1f071bf96195"
      },
      "execution_count": 20,
      "outputs": [
        {
          "output_type": "stream",
          "name": "stdout",
          "text": [
            "Conversión de temperatura\n",
            "Digite la temperatura en grados Celsius (°C): -90\n",
            "La temperatura en grados Fahrenheit (°F) es: -130.0\n",
            "La temperatura en grados Kelvin (°K) es: 183.14999999999998\n"
          ]
        }
      ]
    },
    {
      "cell_type": "code",
      "source": [
        "#5\n",
        "articulos = {\n",
        "    \"1\": (\"Laptop\", 800.00),\n",
        "    \"2\": (\"Smartphone\", 500.00),\n",
        "    \"3\": (\"Tablet\", 300.00),\n",
        "    \"4\": (\"Auriculares\", 100.00),\n",
        "    \"5\": (\"Reloj inteligente\", 250.00)\n",
        "}\n",
        "\n",
        "\n",
        "print(\"¡Bienvenido a la tienda virtual del robot Alex!\")\n",
        "\n",
        "\n",
        "print(\"Artículos disponibles:\")\n",
        "for clave, (nombre, precio) in articulos.items():\n",
        "    print(f\"{clave}. {nombre} - ${precio:.2f}\")\n",
        "\n",
        "\n",
        "opcion = input(\"Por favor, seleccione el número del artículo que desea consultar: \")\n",
        "\n",
        "\n",
        "if opcion in articulos:\n",
        "    nombre_articulo, precio_articulo = articulos[opcion]\n",
        "    print(f\"El precio del {nombre_articulo} es: ${precio_articulo:.2f}\")\n",
        "else:\n",
        "    print(\"Opción no válida. Por favor, seleccione un número de artículo disponible.\")"
      ],
      "metadata": {
        "colab": {
          "base_uri": "https://localhost:8080/"
        },
        "id": "99Qhxv9LgHSw",
        "outputId": "04a9b083-db37-4101-cc22-136220b42adc"
      },
      "execution_count": 10,
      "outputs": [
        {
          "output_type": "stream",
          "name": "stdout",
          "text": [
            "¡Bienvenido a la tienda virtual del robot Alex!\n",
            "Artículos disponibles:\n",
            "1. Laptop - $800.00\n",
            "2. Smartphone - $500.00\n",
            "3. Tablet - $300.00\n",
            "4. Auriculares - $100.00\n",
            "5. Reloj inteligente - $250.00\n",
            "Por favor, seleccione el número del artículo que desea consultar: 2\n",
            "El precio del Smartphone es: $500.00\n"
          ]
        }
      ]
    },
    {
      "cell_type": "code",
      "source": [
        "#6\n",
        "resistencias = []\n",
        "tipo_conexion = input(\"¿Las resistencias están en serie o en paralelo? (serie/paralelo): \").strip().lower()\n",
        "n = int(input(\"Digite el número de resistencias: \"))\n",
        "\n",
        "\n",
        "for i in range(n):\n",
        "    resistencia = float(input(f\"Digite el valor de la resistencia {i + 1} (en ohmios): \"))\n",
        "    resistencias.append(resistencia)\n",
        "\n",
        "\n",
        "if tipo_conexion == \"serie\":\n",
        "    resistencia_total = sum(resistencias)\n",
        "elif tipo_conexion == \"paralelo\":\n",
        "    resistencia_total = 1 / sum(1 / r for r in resistencias if r != 0)\n",
        "else:\n",
        "    resistencia_total = None\n",
        "    print(\"Tipo de conexión no válido. Por favor, elija 'serie' o 'paralelo'.\")\n",
        "\n",
        "\n",
        "if resistencia_total is not None:\n",
        "    print(f\"La resistencia total R_x es: {resistencia_total:.2f} ohmios\")"
      ],
      "metadata": {
        "colab": {
          "base_uri": "https://localhost:8080/"
        },
        "id": "P35gFQYmg3uo",
        "outputId": "1aa212c2-5d40-437a-f55e-b8ee751fa060"
      },
      "execution_count": 17,
      "outputs": [
        {
          "output_type": "stream",
          "name": "stdout",
          "text": [
            "¿Las resistencias están en serie o en paralelo? (serie/paralelo): paralelo\n",
            "Digite el número de resistencias: 8\n",
            "Digite el valor de la resistencia 1 (en ohmios): 5\n",
            "Digite el valor de la resistencia 2 (en ohmios): 6\n",
            "Digite el valor de la resistencia 3 (en ohmios): 5\n",
            "Digite el valor de la resistencia 4 (en ohmios): 6\n",
            "Digite el valor de la resistencia 5 (en ohmios): 6\n",
            "Digite el valor de la resistencia 6 (en ohmios): 9\n",
            "Digite el valor de la resistencia 7 (en ohmios): 5\n",
            "Digite el valor de la resistencia 8 (en ohmios): 4\n",
            "La resistencia total R_x es: 0.68 ohmios\n"
          ]
        }
      ]
    },
    {
      "cell_type": "code",
      "source": [
        "#7\n",
        "temperatura_celsius = 0.0\n",
        "\n",
        "\n",
        "temperatura_celsius = float(input(\"Digite la temperatura en grados Celsius (°C): \"))\n",
        "\n",
        "\n",
        "if temperatura_celsius >= 0:\n",
        "\n",
        "    temperatura_fahrenheit = (9/5) * temperatura_celsius + 32\n",
        "\n",
        "\n",
        "    temperatura_kelvin = temperatura_celsius + 273.15\n",
        "\n",
        "\n",
        "    print(\"La temperatura en grados Fahrenheit (°F) es:\", temperatura_fahrenheit)\n",
        "    print(\"La temperatura en grados Kelvin (°K) es:\", temperatura_kelvin)\n",
        "else:\n",
        "    print(\"Por favor, ingrese una temperatura positiva.\")"
      ],
      "metadata": {
        "colab": {
          "base_uri": "https://localhost:8080/"
        },
        "id": "lA2dWICiiBtK",
        "outputId": "ee46a510-a097-4347-acc7-2f340bf67a6e"
      },
      "execution_count": 19,
      "outputs": [
        {
          "output_type": "stream",
          "name": "stdout",
          "text": [
            "Digite la temperatura en grados Celsius (°C): -9\n",
            "Por favor, ingrese una temperatura positiva.\n"
          ]
        }
      ]
    },
    {
      "cell_type": "code",
      "source": [
        "#8\n",
        "horas = int(input(\"Digite las horas (0-23): \"))\n",
        "minutos = int(input(\"Digite los minutos (0-59): \"))\n",
        "\n",
        "if 0 <= horas < 24 and 0 <= minutos < 60:\n",
        "    # Determinar el formato de 12 horas\n",
        "    if horas == 0:\n",
        "        horas_12 = 12\n",
        "        periodo = \"AM\"\n",
        "    elif horas < 12:\n",
        "        horas_12 = horas\n",
        "        periodo = \"AM\"\n",
        "    elif horas == 12:\n",
        "        horas_12 = 12\n",
        "        periodo = \"PM\"\n",
        "    else:\n",
        "        horas_12 = horas - 12\n",
        "        periodo = \"PM\"\n",
        "\n",
        "    print(f\"El tiempo en formato de 12 horas es: {horas_12}:{minutos:02d} {periodo}\")\n",
        "else:\n",
        "    print(\"Por favor, ingrese horas entre 0 y 23, y minutos entre 0 y 59.\")"
      ],
      "metadata": {
        "colab": {
          "base_uri": "https://localhost:8080/"
        },
        "id": "vEjng81ijUgO",
        "outputId": "c60f6066-fc90-4707-a2bf-e564770ad792"
      },
      "execution_count": 24,
      "outputs": [
        {
          "output_type": "stream",
          "name": "stdout",
          "text": [
            "Digite las horas (0-23): 8\n",
            "Digite los minutos (0-59): 15\n",
            "El tiempo en formato de 12 horas es: 8:15 AM\n"
          ]
        }
      ]
    },
    {
      "cell_type": "code",
      "source": [
        "#9\n",
        "n = int(input(\"Digite el número de estudiantes: \"))\n",
        "\n",
        "for i in range(n):\n",
        "\n",
        "    nombre = input(\"Digite su nombre: \")\n",
        "    codigo = input(\"Digite su código: \")\n",
        "\n",
        "\n",
        "    if len(codigo) >= 8} and codigo.startswith('U'):\n",
        "        programa_codigo = codigo[1:5]\n",
        "\n",
        "\n",
        "        if programa_codigo == \"0001\":\n",
        "            carrera = \"Telecomunicaciones\"\n",
        "        elif programa_codigo == \"0002\":\n",
        "            carrera = \"Financiera\"\n",
        "        elif programa_codigo == \"0003\":\n",
        "            carrera = \"Mecatrónica\"\n",
        "        elif programa_codigo == \"0004\":\n",
        "            carrera = \"Audiovisuales\"\n",
        "        else:\n",
        "            carrera = \"Desconocida\"\n",
        "    else:\n",
        "        carrera = \"Código inválido\"\n",
        "\n",
        "    print(\"UNIVERSIDAD AUTÓNOMA DE BUCARAMANGA\")\n",
        "    print(\"Nombre del estudiante:\", nombre)\n",
        "    print(\"Código:\", codigo)\n",
        "    print(\"Carrera:\", carrera)\n",
        "    print()  # Línea en blanco para separar la información de diferentes estudiantes"
      ],
      "metadata": {
        "colab": {
          "base_uri": "https://localhost:8080/"
        },
        "id": "jgq4Ej_Ije1N",
        "outputId": "17c8c26f-bfcc-402d-e1a3-5a56c04b8840"
      },
      "execution_count": 31,
      "outputs": [
        {
          "output_type": "stream",
          "name": "stdout",
          "text": [
            "Digite el número de estudiantes: 2\n",
            "Digite su nombre: Sonia Smith\n",
            "Digite su código: U0001784\n",
            "UNIVERSIDAD AUTÓNOMA DE BUCARAMANGA\n",
            "Nombre del estudiante: Sonia Smith\n",
            "Código: U0001784\n",
            "Carrera: Telecomunicaciones\n",
            "\n",
            "Digite su nombre: teyo\n",
            "Digite su código: U0002345\n",
            "UNIVERSIDAD AUTÓNOMA DE BUCARAMANGA\n",
            "Nombre del estudiante: teyo\n",
            "Código: U0002345\n",
            "Carrera: Financiera\n",
            "\n"
          ]
        }
      ]
    },
    {
      "cell_type": "code",
      "source": [
        "import math\n",
        "\n",
        "print(\"Seleccione una opción:\")\n",
        "print(\"1. Seno (sen)\")\n",
        "print(\"2. Coseno (cos)\")\n",
        "print(\"3. Tangente (tan)\")\n",
        "\n",
        "opcion = int(input(\"Digite el número de la opción deseada (1-3): \"))\n",
        "\n",
        "x_grados = float(input(\"Digite el valor de x en grados: \"))\n",
        "\n",
        "x_radianes = math.radians(x_grados)\n",
        "\n",
        "if opcion == 1:\n",
        "    resultado = math.sin(x_radianes)\n",
        "    print(f\"El seno de {x_grados} grados es: {resultado:.4f}\")\n",
        "elif opcion == 2:\n",
        "    resultado = math.cos(x_radianes)\n",
        "    print(f\"El coseno de {x_grados} grados es: {resultado:.4f}\")\n",
        "elif opcion == 3:\n",
        "\n",
        "    if math.cos(x_radianes) != 0:\n",
        "        resultado = math.tan(x_radianes)\n",
        "        print(f\"La tangente de {x_grados} grados es: {resultado:.4f}\")\n",
        "    else:\n",
        "        print(f\"La tangente de {x_grados} grados no está definida (coseno es cero).\")\n",
        "else:\n",
        "    print(\"Opción no válida. Por favor, seleccione una opción entre 1 y 3.\")"
      ],
      "metadata": {
        "colab": {
          "base_uri": "https://localhost:8080/"
        },
        "id": "Is8qSvKcoA0L",
        "outputId": "1c64185a-ba8b-4b70-e485-41e4e196df65"
      },
      "execution_count": 32,
      "outputs": [
        {
          "output_type": "stream",
          "name": "stdout",
          "text": [
            "Seleccione una opción:\n",
            "1. Seno (sen)\n",
            "2. Coseno (cos)\n",
            "3. Tangente (tan)\n",
            "Digite el número de la opción deseada (1-3): 2\n",
            "Digite el valor de x en grados: 90\n",
            "El coseno de 90.0 grados es: 0.0000\n"
          ]
        }
      ]
    }
  ]
}