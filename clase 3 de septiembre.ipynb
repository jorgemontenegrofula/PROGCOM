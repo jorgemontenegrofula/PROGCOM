{
  "nbformat": 4,
  "nbformat_minor": 0,
  "metadata": {
    "colab": {
      "provenance": []
    },
    "kernelspec": {
      "name": "python3",
      "display_name": "Python 3"
    },
    "language_info": {
      "name": "python"
    }
  },
  "cells": [
    {
      "cell_type": "markdown",
      "source": [
        "##Try (algo):/ except (algo):\n",
        "El programa ejecuta una operacion invalida  ccdcs"
      ],
      "metadata": {
        "id": "kSgXOfdzJgIR"
      }
    },
    {
      "cell_type": "code",
      "execution_count": 9,
      "metadata": {
        "colab": {
          "base_uri": "https://localhost:8080/"
        },
        "id": "lki6va4VJfE5",
        "outputId": "d694cce2-365d-4669-c9b8-8c59ee714903"
      },
      "outputs": [
        {
          "output_type": "stream",
          "name": "stdout",
          "text": [
            "Ingresa una letra2.5\n",
            "2.5 es una variable de tipo <class 'float'>\n"
          ]
        }
      ],
      "source": [
        "#Respuesta para :v\n",
        "letra=input(\"Ingresa una letra\")\n",
        "num=None\n",
        "for conv in (int,float):\n",
        "  try:\n",
        "    num=conv(letra)\n",
        "    break\n",
        "  except ValueError:\n",
        "    pass\n",
        "if num==None: print(f\"{letra} es una variable de tipo {type(letra)}\")\n",
        "else: print(f\"{letra} es una variable de tipo {type(num)}\")\n"
      ]
    },
    {
      "cell_type": "code",
      "source": [
        "#division por 0\n",
        "a=int(input(\"ingrese el dividendo\"))\n",
        "b=int(input(\"ingrese divisor\"))\n",
        "try:\n",
        "  division=a/b\n",
        "  print(f\"{a}/{b}={division}\")\n",
        "except ZeroDivisionError:\n",
        "  print(\"infinito\")"
      ],
      "metadata": {
        "colab": {
          "base_uri": "https://localhost:8080/"
        },
        "id": "pWmjSsEkM5T-",
        "outputId": "1d3575c6-4f35-40fc-eb28-ea1b3fd7d245"
      },
      "execution_count": 14,
      "outputs": [
        {
          "output_type": "stream",
          "name": "stdout",
          "text": [
            "ingrese el dividendo-520\n",
            "ingrese divisor450\n",
            "-520/450=-1.1555555555555554\n"
          ]
        }
      ]
    },
    {
      "cell_type": "code",
      "source": [
        "a=input(\"Quieres helado?\")\n",
        "a=a[0].lower()\n",
        "if a==\"s\":\n",
        "  f=input(\"Que sabor de helado quieres?\")\n",
        "  if f==\"chocolate\": print (f\"Aquí esta su helado de {f}. Me debe 5000\")\n",
        "  elif f==\"vainilla\":print (f\"Aquí esta su helado de {f}. Me debe 4000\")\n",
        "  elif f==\"fresa\":print (f\"Aquí esta su helado de {f}. Me debe 10000\")\n",
        "  elif f==\"ron con pasas\":print (f\"Aquí esta su helado de {f}. Me debe 7000\")\n",
        "  else: print(\"Lo siento, no tenemos ese sabor\")\n",
        "else:\n",
        "  print(\"Ta bueno... a poco ni queria\")"
      ],
      "metadata": {
        "colab": {
          "base_uri": "https://localhost:8080/"
        },
        "id": "PqaigW9NPtm8",
        "outputId": "6c4a0b86-e64c-43b3-b031-efabb2164e03"
      },
      "execution_count": 22,
      "outputs": [
        {
          "output_type": "stream",
          "name": "stdout",
          "text": [
            "Quieres helado?sicas\n",
            "Que sabor de helado quieres?blanco\n",
            "Lo siento, no tenemos ese sabor\n"
          ]
        }
      ]
    },
    {
      "cell_type": "code",
      "source": [
        "a=input(\"Quieres helado?\")\n",
        "a=a[0].lower()\n",
        "if a==\"s\":\n",
        "  f=input(\"Que sabor de helado quieres?\")\n",
        "  match f:\n",
        "    case \"chocolate\": print(f\"Aquí esta su helado de {f}. Me debe 5000\")\n",
        "    case \"vainilla\":print(f\"Aquí esta su helado de {f}. Me debe 4000\")\n",
        "    case \"fresa\":print(f\"Aquí esta su helado de {f}. Me debe 10000\")\n",
        "    case \"ron con pasas\": print(f\"Aquí esta su helado de {f}. Me debe 7000\")\n",
        "    case _: print(\"Lo siento, no tenemos ese sabor\")\n",
        "else:\n",
        "  print(\"Ta bueno... a poco ni queria\")"
      ],
      "metadata": {
        "colab": {
          "base_uri": "https://localhost:8080/"
        },
        "id": "bGkVnRiqSnnY",
        "outputId": "84b839e9-81ff-4681-cac2-b2b767c608eb"
      },
      "execution_count": 20,
      "outputs": [
        {
          "output_type": "stream",
          "name": "stdout",
          "text": [
            "Quieres helado?sisas\n",
            "Que sabor de helado quieres?vainilla\n",
            "Aquí esta su helado de vainilla. Me debe 4000\n"
          ]
        }
      ]
    },
    {
      "cell_type": "code",
      "source": [],
      "metadata": {
        "id": "af78o6ZfXYhV"
      },
      "execution_count": null,
      "outputs": []
    },
    {
      "cell_type": "code",
      "source": [
        "caracter = input(\"Ingrese un carácter: \")\n",
        "\n",
        "if caracter == 'A' or caracter == 'E' or caracter == 'I' or caracter == 'O' or caracter == 'U':\n",
        "    print(f\"La letra '{caracter}' es una vocal mayúscula.\")\n",
        "elif caracter == 'a' or caracter == 'e' or caracter == 'i' or caracter == 'o' or caracter == 'u':\n",
        "    print(f\"La letra '{caracter}' es una vocal minúscula.\")\n",
        "else:\n",
        "    print(f\"La letra '{caracter}' no es una vocal.\")"
      ],
      "metadata": {
        "colab": {
          "base_uri": "https://localhost:8080/"
        },
        "id": "9W1QmYKaXwxU",
        "outputId": "05a77564-743c-4828-cb6f-f0a322f23704"
      },
      "execution_count": 40,
      "outputs": [
        {
          "output_type": "stream",
          "name": "stdout",
          "text": [
            "Ingrese un carácter: b\n",
            "La letra 'b' no es una vocal.\n"
          ]
        }
      ]
    },
    {
      "cell_type": "code",
      "source": [
        "caracter = input(\"Ingrese un carácter: \")\n",
        "\n",
        "match caracter:\n",
        "    case 'A' | 'E' | 'I' | 'O' | 'U':\n",
        "        print(f\"La letra '{caracter}' es una vocal mayúscula.\")\n",
        "    case 'a' | 'e' | 'i' | 'o' | 'u':\n",
        "        print(f\"La letra '{caracter}' es una vocal minúscula.\")\n",
        "    case _:\n",
        "        print(f\"La letra '{caracter}' no es una vocal.\")"
      ],
      "metadata": {
        "colab": {
          "base_uri": "https://localhost:8080/"
        },
        "id": "dKOE0Ni3X-q8",
        "outputId": "024d3879-2f43-4391-bd72-7d977efba7e9"
      },
      "execution_count": 41,
      "outputs": [
        {
          "output_type": "stream",
          "name": "stdout",
          "text": [
            "Ingrese un carácter: b\n",
            "La letra 'b' no es una vocal.\n"
          ]
        }
      ]
    },
    {
      "cell_type": "code",
      "source": [
        "dia = input(\"Ingrese un día (lunes, martes, miércoles, jueves, viernes, sábado, domingo): \")\n",
        "\n",
        "if dia == 'sábado' or dia == 'domingo':\n",
        "    print(f\"El día {dia} es fin de semana.\")\n",
        "elif dia == 'lunes' or dia == 'martes' or dia == 'miércoles' or dia == 'jueves' or dia == 'viernes':\n",
        "    print(f\"El día {dia} es entre semana.\")\n",
        "else:\n",
        "    print(f\"El día {dia} no es válido.\")"
      ],
      "metadata": {
        "colab": {
          "base_uri": "https://localhost:8080/"
        },
        "id": "YhvYp_kNYTAM",
        "outputId": "64bae64c-2a42-4754-c9e5-c9384ccb1373"
      },
      "execution_count": 42,
      "outputs": [
        {
          "output_type": "stream",
          "name": "stdout",
          "text": [
            "Ingrese un día (lunes, martes, miércoles, jueves, viernes, sábado, domingo): lunes\n",
            "El día lunes es entre semana.\n"
          ]
        }
      ]
    },
    {
      "cell_type": "code",
      "source": [
        "dia = input(\"Ingrese un día (lunes, martes, miércoles, jueves, viernes, sábado, domingo): \")\n",
        "\n",
        "match dia.lower():\n",
        "    case 'sábado' | 'domingo':\n",
        "        print(\"Es fin de semana\")\n",
        "    case 'lunes' | 'martes' | 'miércoles' | 'jueves' | 'viernes':\n",
        "        print(\"Es entre semana\")\n",
        "    case _:\n",
        "        print(\"Día no válido\")"
      ],
      "metadata": {
        "colab": {
          "base_uri": "https://localhost:8080/"
        },
        "id": "i182_e0fYbqL",
        "outputId": "e902a2d0-0f6a-4ba0-8283-d94e53ae5ca5"
      },
      "execution_count": 43,
      "outputs": [
        {
          "output_type": "stream",
          "name": "stdout",
          "text": [
            "Ingrese un día (lunes, martes, miércoles, jueves, viernes, sábado, domingo): martes\n",
            "Es entre semana\n"
          ]
        }
      ]
    },
    {
      "cell_type": "code",
      "source": [
        "animal = input(\"Ingrese un animal: \")\n",
        "\n",
        "if animal.lower() in ['aguila', 'loro']:\n",
        "    print(\"Es un ave\")\n",
        "elif animal.lower() in ['leon', 'tigre']:\n",
        "    print(\"Es un mamífero\")\n",
        "elif animal.lower() in ['cocodrilo', 'piton']:\n",
        "    print(\"Es un reptil\")\n",
        "else:\n",
        "    print(\"Animal no clasificado\")"
      ],
      "metadata": {
        "colab": {
          "base_uri": "https://localhost:8080/"
        },
        "id": "mmvpnOjGZCqj",
        "outputId": "59cb7e80-872b-4d98-c601-b1d0f8acfeb1"
      },
      "execution_count": 44,
      "outputs": [
        {
          "output_type": "stream",
          "name": "stdout",
          "text": [
            "Ingrese un animal: loro\n",
            "Es un ave\n"
          ]
        }
      ]
    },
    {
      "cell_type": "code",
      "source": [
        "animal = input(\"Ingrese un animal: \")\n",
        "\n",
        "match animal.lower():\n",
        "    case 'aguila' | 'loro':\n",
        "        print(\"Es un ave\")\n",
        "    case 'leon' | 'tigre':\n",
        "        print(\"Es un mamífero\")\n",
        "    case 'cocodrilo' | 'piton':\n",
        "        print(\"Es un reptil\")\n",
        "    case _:\n",
        "        print(\"Animal no clasificado\")"
      ],
      "metadata": {
        "colab": {
          "base_uri": "https://localhost:8080/"
        },
        "id": "OUnUfiHfZOSb",
        "outputId": "d4a4ec46-ee49-4042-f096-18b4d50ce40d"
      },
      "execution_count": 45,
      "outputs": [
        {
          "output_type": "stream",
          "name": "stdout",
          "text": [
            "Ingrese un animal: loro\n",
            "Es un ave\n"
          ]
        }
      ]
    },
    {
      "cell_type": "code",
      "source": [
        "# Pedir los 5 números al usuario\n",
        "num1 = int(input(\"Ingrese el primer número: \"))\n",
        "num2 = int(input(\"Ingrese el segundo número: \"))\n",
        "num3 = int(input(\"Ingrese el tercer número: \"))\n",
        "num4 = int(input(\"Ingrese el cuarto número: \"))\n",
        "num5 = int(input(\"Ingrese el quinto número: \"))\n",
        "\n",
        "if num1 != num2 and num1 != num3 and num1 != num4 and num1 != num5 and \\\n",
        "   num2 != num3 and num2 != num4 and num2 != num5 and \\\n",
        "   num3 != num4 and num3 != num5 and \\\n",
        "   num4 != num5:\n",
        "    # Encontrar el mayor de los 5 números utilizando el operador ternario\n",
        "    mayor = num1 if (num1 > num2 and num1 > num3 and num1 > num4 and num1 > num5) else \\\n",
        "            num2 if (num2 > num1 and num2 > num3 and num2 > num4 and num2 > num5) else \\\n",
        "            num3 if (num3 > num1 and num3 > num2 and num3 > num4 and num3 > num5) else \\\n",
        "            num4 if (num4 > num1 and num4 > num2 and num4 > num3 and num4 > num5) else num5\n",
        "\n",
        "    print(\"El mayor de los 5 números es:\", mayor)\n",
        "else:\n",
        "    print(\"Error: Todos los números deben ser diferentes.\")"
      ],
      "metadata": {
        "colab": {
          "base_uri": "https://localhost:8080/"
        },
        "id": "mhCB9S4NZT00",
        "outputId": "a019b813-fd50-457e-c4aa-4501df869684"
      },
      "execution_count": 46,
      "outputs": [
        {
          "output_type": "stream",
          "name": "stdout",
          "text": [
            "Ingrese el primer número: 8\n",
            "Ingrese el segundo número: 51\n",
            "Ingrese el tercer número: 35\n",
            "Ingrese el cuarto número: 91\n",
            "Ingrese el quinto número: 42\n",
            "El mayor de los 5 números es: 91\n"
          ]
        }
      ]
    },
    {
      "cell_type": "code",
      "source": [
        "# Pedir la edad de las 3 personas\n",
        "edad1 = int(input(\"Ingrese la edad de la primera persona: \"))\n",
        "edad2 = int(input(\"Ingrese la edad de la segunda persona: \"))\n",
        "edad3 = int(input(\"Ingrese la edad de la tercera persona: \"))\n",
        "\n",
        "mayor_edad = edad1 if edad1 > edad2 and edad1 > edad3 else edad2 if edad2 > edad1 and edad2 > edad3 else edad3\n",
        "\n",
        "categoria = \"adulto\" if mayor_edad >= 18 else \"adolescente\" if mayor_edad >= 13 else \"niño\"\n",
        "\n",
        "print(\"La persona mayor tiene\", mayor_edad, \"años y es un\", categoria)"
      ],
      "metadata": {
        "colab": {
          "base_uri": "https://localhost:8080/"
        },
        "id": "JrSIgCn1cMEI",
        "outputId": "fabba2a1-4dae-451b-94d7-6329ed78ef70"
      },
      "execution_count": 65,
      "outputs": [
        {
          "output_type": "stream",
          "name": "stdout",
          "text": [
            "Ingrese la edad de la primera persona: 18\n",
            "Ingrese la edad de la segunda persona: 29\n",
            "Ingrese la edad de la tercera persona: 58\n",
            "La persona mayor tiene 58 años y es un adulto\n"
          ]
        }
      ]
    },
    {
      "cell_type": "code",
      "source": [
        "numero = int(input(\"Ingrese un número del 0 al 9: \"))\n",
        "\n",
        "if numero < 0 or numero > 9:\n",
        "    print(\"El número no pertenece al rango del 0 al 9\")\n",
        "elif numero % 2 == 0:\n",
        "    print(f\"El número {numero} es par\")\n",
        "else:\n",
        "    print(f\"El número {numero} es impar\")"
      ],
      "metadata": {
        "colab": {
          "base_uri": "https://localhost:8080/"
        },
        "id": "w437aot-ePAP",
        "outputId": "183bb6c2-168f-4dd0-d394-5faef04f015c"
      },
      "execution_count": 67,
      "outputs": [
        {
          "output_type": "stream",
          "name": "stdout",
          "text": [
            "Ingrese un número del 0 al 9: 18\n",
            "El número no pertenece al rango del 0 al 9\n"
          ]
        }
      ]
    },
    {
      "cell_type": "code",
      "source": [
        "numero = int(input(\"Ingrese un número del 0 al 9: \"))\n",
        "\n",
        "match numero:\n",
        "    case n if n < 0 or n > 9:\n",
        "        print(\"El número no pertenece al rango del 0 al 9\")\n",
        "    case n if n % 2 == 0:\n",
        "        print(f\"El número {n} es par\")\n",
        "    case _:\n",
        "        print(f\"El número {numero} es impar\")"
      ],
      "metadata": {
        "colab": {
          "base_uri": "https://localhost:8080/"
        },
        "id": "3C9pAUC_egc_",
        "outputId": "18e6d6af-80ea-4391-e4a8-1a46b3ec8224"
      },
      "execution_count": 70,
      "outputs": [
        {
          "output_type": "stream",
          "name": "stdout",
          "text": [
            "Ingrese un número del 0 al 9: 18\n",
            "El número no pertenece al rango del 0 al 9\n"
          ]
        }
      ]
    }
  ]
}