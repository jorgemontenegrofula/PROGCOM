{
  "nbformat": 4,
  "nbformat_minor": 0,
  "metadata": {
    "colab": {
      "provenance": []
    },
    "kernelspec": {
      "name": "python3",
      "display_name": "Python 3"
    },
    "language_info": {
      "name": "python"
    }
  },
  "cells": [
    {
      "cell_type": "code",
      "execution_count": 3,
      "metadata": {
        "colab": {
          "base_uri": "https://localhost:8080/"
        },
        "id": "EW1FKI4PRAnM",
        "outputId": "a1591798-80b5-41ae-ed60-360949bb48b7"
      },
      "outputs": [
        {
          "name": "stdout",
          "output_type": "stream",
          "text": [
            "Ingrese un numero2\n",
            "Ingrese otro numero26\n",
            "Ingrese otro numero16\n"
          ]
        }
      ],
      "source": [
        "#Ejercicio 3: Definir si un número mayor que n y menor o igual que m\n",
        "n=int(input(\"Ingrese un numero\"))\n",
        "m=int(input(\"Ingrese otro numero\"))\n",
        "x=int(input(\"Ingrese otro numero\"))"
      ]
    },
    {
      "cell_type": "code",
      "source": [
        "x=int(input(\"Ingrese otro numero\"))\n",
        "if x>n and  x<=m:\n",
        "  print(f\"El numero {x} es mayor que {n} y menor o igual que {m}\")\n",
        "elif x<n and x<m:\n",
        "  print(f\"El numero {x} es mayor que {n} pero no es menor o igual que {m}\")\n",
        "elif x<n and x<=m:\n",
        "  print(f\"El numero {x} no es mayor que {n} pero es menor o igual que {m}\")"
      ],
      "metadata": {
        "colab": {
          "base_uri": "https://localhost:8080/"
        },
        "id": "T_ji0_QlRMrt",
        "outputId": "3d47fe12-7fb7-41e8-fb00-4b97d2ca0be6"
      },
      "execution_count": 4,
      "outputs": [
        {
          "name": "stdout",
          "output_type": "stream",
          "text": [
            "Ingrese otro numero30\n"
          ]
        }
      ]
    },
    {
      "cell_type": "code",
      "source": [
        "x=int(input(\"Ingrese otro numero\"))\n",
        "if x>n and  x<=m:\n",
        "  print(f\"El numero {x} es mayor que {n} y menor o igual que {m}\")\n",
        "else:\n",
        "  if x>n: print(f\"El numero {x} es mayor que {n} pero no es menor o igual que {m}\")\n",
        "  else: print(f\"El numero {x} no es mayor que {n} pero es menor o igual que {m}\")"
      ],
      "metadata": {
        "colab": {
          "base_uri": "https://localhost:8080/"
        },
        "id": "1-dODbhGRSY8",
        "outputId": "b0c55152-20e0-4246-83db-4e8bc971d0ef"
      },
      "execution_count": 5,
      "outputs": [
        {
          "output_type": "stream",
          "name": "stdout",
          "text": [
            "Ingrese otro numero30\n",
            "El numero 30 es mayor que 2 pero no es menor o igual que 26\n"
          ]
        }
      ]
    },
    {
      "cell_type": "code",
      "source": [
        "#4. Definir si una letra es m o no. Modo novato\n",
        "letra=input(\"Ingrese una letra\")\n",
        "if letra==\"m\" or letra==\"M\":\n",
        "  print(\"Ingresaste una m\")\n",
        "else: print(\"No ingresaste una m\")\n"
      ],
      "metadata": {
        "colab": {
          "base_uri": "https://localhost:8080/"
        },
        "id": "kjsshxXARblU",
        "outputId": "024f34c9-4291-45b6-9eb1-17c59ab67a99"
      },
      "execution_count": 1,
      "outputs": [
        {
          "output_type": "stream",
          "name": "stdout",
          "text": [
            "Ingrese una letram\n",
            "Ingresaste una m\n"
          ]
        }
      ]
    },
    {
      "cell_type": "code",
      "source": [
        "#4. Definir si una letra es m o no. Modo profesional\n",
        "letra=input(\"Ingrese una letra.  \").lower()\n",
        "if letra==\"m\":\n",
        "  print(\"Ingresaste una m\")\n",
        "else: print(\"No ingresaste una m\")"
      ],
      "metadata": {
        "colab": {
          "base_uri": "https://localhost:8080/"
        },
        "id": "romI0G36Rh0M",
        "outputId": "4152140f-a659-401e-f7d2-466a0605aaf7"
      },
      "execution_count": 2,
      "outputs": [
        {
          "output_type": "stream",
          "name": "stdout",
          "text": [
            "Ingrese una letra.  m\n",
            "Ingresaste una m\n"
          ]
        }
      ]
    },
    {
      "cell_type": "code",
      "source": [
        "#Restar en 1 una variable si es menor que 5\n",
        "numero=int(input(\"Ingrese un numero\"))\n",
        "if numero<5: print(f\"El nuevo numero es {numero-1}\")\n",
        "else: print(\"Como \")"
      ],
      "metadata": {
        "colab": {
          "base_uri": "https://localhost:8080/"
        },
        "id": "gllxg6hWRm0k",
        "outputId": "2e5ac91c-5adf-4cbd-a9ec-850b01c672a5"
      },
      "execution_count": 6,
      "outputs": [
        {
          "name": "stdout",
          "output_type": "stream",
          "text": [
            "Ingrese un numero10\n"
          ]
        }
      ]
    },
    {
      "cell_type": "code",
      "source": [
        "#ejercicio 1: Dividir dos numeros siempre y cuando el denominador no sea 0\n",
        "m=int(input(\"Ingrese el numero a dividir: \"))\n",
        "x=int(input(\"Ingrese el numero por el cual va a dividir: \"))\n",
        "if x==0:\n",
        "  print(\"No se puede dividir por 0\")\n",
        "else: print(f\"El resultado de la division es {m/x}\")"
      ],
      "metadata": {
        "colab": {
          "base_uri": "https://localhost:8080/"
        },
        "id": "G9Q_3y8DShm7",
        "outputId": "8b972ea0-2b7d-4704-f5a2-353cdd272698"
      },
      "execution_count": 7,
      "outputs": [
        {
          "output_type": "stream",
          "name": "stdout",
          "text": [
            "Ingrese el numero a dividir: 15\n",
            "Ingrese el numero por el cual va a dividir: 5\n",
            "El resultado de la division es 3.0\n"
          ]
        }
      ]
    },
    {
      "cell_type": "code",
      "source": [
        "#Ejercicio 2: Definir si un numero es mayor que 5 y menor que 15\n",
        "numero=int(input(\"Ingrese un numero\"))\n",
        "if numero>5 and numero<15:\n",
        "  print(f\"El numero {numero} es mayor que 5 y menor que 15\")\n",
        "else:\n",
        "  if numero>5:\n",
        "    print(f\"El numero {numero} es mayor que 5 pero no es menor o igual que 15\")\n",
        "  else:\n",
        "    print(f\"El numero {numero} no es mayor que 5 pero es menor o igual que 15\")\n"
      ],
      "metadata": {
        "colab": {
          "base_uri": "https://localhost:8080/"
        },
        "id": "_ZfzwY6uUT9S",
        "outputId": "0a6e24c8-19f8-4a32-bfc5-ec74e2841bb1"
      },
      "execution_count": 8,
      "outputs": [
        {
          "output_type": "stream",
          "name": "stdout",
          "text": [
            "Ingrese un numero40\n",
            "El numero 40 es mayor que 5 pero no es menor o igual que 15\n"
          ]
        }
      ]
    },
    {
      "cell_type": "code",
      "source": [
        "#Ejercicio 5: Verificar si un numero es impar o par.\n",
        "numero=int(input(\"Ingrese el numero que quiere veririficar\"))\n",
        "if numero % 2==0:\n",
        "  print(f\"El numero {numero} es par\")\n",
        "else: print(f\"El numero {numero} es impar\")"
      ],
      "metadata": {
        "colab": {
          "base_uri": "https://localhost:8080/"
        },
        "id": "YoN3A_2iVjIZ",
        "outputId": "5eb9c184-2293-4c88-ef27-46c79162a5fb"
      },
      "execution_count": 9,
      "outputs": [
        {
          "output_type": "stream",
          "name": "stdout",
          "text": [
            "Ingrese el numero que quiere veririficar5\n",
            "El numero 5 es impar\n"
          ]
        }
      ]
    }
  ]
}