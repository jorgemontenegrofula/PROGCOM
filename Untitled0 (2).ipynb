{
  "nbformat": 4,
  "nbformat_minor": 0,
  "metadata": {
    "colab": {
      "provenance": []
    },
    "kernelspec": {
      "name": "python3",
      "display_name": "Python 3"
    },
    "language_info": {
      "name": "python"
    }
  },
  "cells": [
    {
      "cell_type": "markdown",
      "source": [
        "EJERCICIO NUMERO 5"
      ],
      "metadata": {
        "id": "bjhkiBi8mDQ-"
      }
    },
    {
      "cell_type": "code",
      "execution_count": null,
      "metadata": {
        "colab": {
          "base_uri": "https://localhost:8080/"
        },
        "id": "ELMfVWxnkdRj",
        "outputId": "949e0740-ce7b-42a8-e869-4750b3dbce54"
      },
      "outputs": [
        {
          "output_type": "stream",
          "name": "stdout",
          "text": [
            "Introduce una letra: a\n",
            "La letra es una vocal.\n"
          ]
        }
      ],
      "source": [
        "letra = input(\"Introduce una letra: \").lower()\n",
        "\n",
        "\n",
        "if letra == 'a' or letra == 'e' or letra == 'i' or letra == 'o' or letra == 'u':\n",
        "    print(\"La letra es una vocal.\")\n",
        "\n",
        "elif letra.isalpha() and len(letra) == 1:\n",
        "    print(\"La letra es una consonante.\")\n",
        "else:\n",
        "    print(\"No has introducido una letra válida.\")"
      ]
    },
    {
      "cell_type": "code",
      "source": [
        "letra = input(\"Introduce una letra: \").lower()\n",
        "\n",
        "match letra:\n",
        "    case 'a' | 'e' | 'i' | 'o' | 'u':\n",
        "        print(\"La letra es una vocal.\")\n",
        "    case _ if letra.isalpha() and len(letra) == 1:\n",
        "        print(\"La letra es una consonante.\")\n",
        "    case _:\n",
        "        print(\"No has introducido una letra válida.\")"
      ],
      "metadata": {
        "colab": {
          "base_uri": "https://localhost:8080/"
        },
        "id": "LCbhWGCOlKmE",
        "outputId": "411e6be0-0280-4ba9-bb01-48b06914772d"
      },
      "execution_count": null,
      "outputs": [
        {
          "output_type": "stream",
          "name": "stdout",
          "text": [
            "Introduce una letra: f\n",
            "La letra es una consonante.\n"
          ]
        }
      ]
    },
    {
      "cell_type": "markdown",
      "source": [
        "EJERCICIO NUMERO 7"
      ],
      "metadata": {
        "id": "HESH1MVqmGp8"
      }
    },
    {
      "cell_type": "code",
      "source": [
        "\n",
        "numero = int(input(\"Introduce un número del 1 al 12: \"))\n",
        "\n",
        "\n",
        "if numero == 1:\n",
        "    print(\"Enero\")\n",
        "elif numero == 2:\n",
        "    print(\"Febrero\")\n",
        "elif numero == 3:\n",
        "    print(\"Marzo\")\n",
        "elif numero == 4:\n",
        "    print(\"Abril\")\n",
        "elif numero == 5:\n",
        "    print(\"Mayo\")\n",
        "elif numero == 6:\n",
        "    print(\"Junio\")\n",
        "elif numero == 7:\n",
        "    print(\"Julio\")\n",
        "elif numero == 8:\n",
        "    print(\"Agosto\")\n",
        "elif numero == 9:\n",
        "    print(\"Septiembre\")\n",
        "elif numero == 10:\n",
        "    print(\"Octubre\")\n",
        "elif numero == 11:\n",
        "    print(\"Noviembre\")\n",
        "elif numero == 12:\n",
        "    print(\"Diciembre\")\n",
        "else:\n",
        "    print(\"Número no válido. Debe estar entre 1 y 12.\")"
      ],
      "metadata": {
        "colab": {
          "base_uri": "https://localhost:8080/"
        },
        "id": "C7uN3riilid8",
        "outputId": "6900a620-39f1-4538-df82-cbeca78bed1a"
      },
      "execution_count": null,
      "outputs": [
        {
          "output_type": "stream",
          "name": "stdout",
          "text": [
            "Introduce un número del 1 al 12: 18\n",
            "Número no válido. Debe estar entre 1 y 12.\n"
          ]
        }
      ]
    },
    {
      "cell_type": "code",
      "source": [
        "\n",
        "numero = int(input(\"Introduce un número del 1 al 12: \"))\n",
        "\n",
        "\n",
        "match numero:\n",
        "    case 1:\n",
        "        print(\"Enero\")\n",
        "    case 2:\n",
        "        print(\"Febrero\")\n",
        "    case 3:\n",
        "        print(\"Marzo\")\n",
        "    case 4:\n",
        "        print(\"Abril\")\n",
        "    case 5:\n",
        "        print(\"Mayo\")\n",
        "    case 6:\n",
        "        print(\"Junio\")\n",
        "    case 7:\n",
        "        print(\"Julio\")\n",
        "    case 8:\n",
        "        print(\"Agosto\")\n",
        "    case 9:\n",
        "        print(\"Septiembre\")\n",
        "    case 10:\n",
        "        print(\"Octubre\")\n",
        "    case 11:\n",
        "        print(\"Noviembre\")\n",
        "    case 12:\n",
        "        print(\"Diciembre\")\n",
        "    case _:\n",
        "        print(\"Número no válido. Debe estar entre 1 y 12.\")"
      ],
      "metadata": {
        "colab": {
          "base_uri": "https://localhost:8080/"
        },
        "id": "-mHWwveTl23W",
        "outputId": "0031f191-fb05-4766-dc86-305d27e40113"
      },
      "execution_count": null,
      "outputs": [
        {
          "output_type": "stream",
          "name": "stdout",
          "text": [
            "Introduce un número del 1 al 12: 18\n",
            "Número no válido. Debe estar entre 1 y 12.\n"
          ]
        }
      ]
    }
  ]
}